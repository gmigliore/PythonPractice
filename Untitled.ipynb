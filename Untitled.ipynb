{
 "cells": [
  {
   "cell_type": "code",
   "execution_count": 3,
   "id": "d0d76285",
   "metadata": {},
   "outputs": [
    {
     "name": "stdout",
     "output_type": "stream",
     "text": [
      "Hello World\n"
     ]
    }
   ],
   "source": [
    "print(\"Hello World\")"
   ]
  },
  {
   "cell_type": "code",
   "execution_count": 5,
   "id": "22d03efe",
   "metadata": {},
   "outputs": [
    {
     "data": {
      "text/plain": [
       "13"
      ]
     },
     "execution_count": 5,
     "metadata": {},
     "output_type": "execute_result"
    }
   ],
   "source": [
    "3+10"
   ]
  },
  {
   "cell_type": "markdown",
   "id": "d0ff49a1",
   "metadata": {},
   "source": [
    "a=3\n",
    "b=5\n",
    "print(a-b+a*3)"
   ]
  },
  {
   "cell_type": "markdown",
   "id": "a2687266",
   "metadata": {},
   "source": [
    "# Heading1"
   ]
  },
  {
   "cell_type": "markdown",
   "id": "f0ccb875",
   "metadata": {},
   "source": [
    "## Heading2"
   ]
  },
  {
   "cell_type": "markdown",
   "id": "ae3a019c",
   "metadata": {},
   "source": [
    "### Header3"
   ]
  },
  {
   "cell_type": "markdown",
   "id": "9bb01c6e",
   "metadata": {},
   "source": [
    "#### Header4"
   ]
  },
  {
   "cell_type": "markdown",
   "id": "5e0c0799",
   "metadata": {},
   "source": [
    ">This is a good day"
   ]
  },
  {
   "cell_type": "markdown",
   "id": "74ed998b",
   "metadata": {},
   "source": [
    "* one\n",
    "* two"
   ]
  },
  {
   "cell_type": "markdown",
   "id": "43639649",
   "metadata": {},
   "source": [
    "**Camera**"
   ]
  },
  {
   "cell_type": "markdown",
   "id": "39d08931",
   "metadata": {},
   "source": [
    "*Camera*"
   ]
  },
  {
   "cell_type": "markdown",
   "id": "37abbf3c",
   "metadata": {},
   "source": [
    "`Here is some code for doing cool things`"
   ]
  },
  {
   "cell_type": "markdown",
   "id": "5260839e",
   "metadata": {},
   "source": [
    "`Youtube` can be found at\n",
    "<a href=\"https://youtube.com\">this link</a>"
   ]
  },
  {
   "cell_type": "markdown",
   "id": "8b9c8818",
   "metadata": {},
   "source": [
    "![Python Logo](https://www.python.org/static/community_logos/python-logo-master-v3-TM.png)"
   ]
  },
  {
   "cell_type": "code",
   "execution_count": null,
   "id": "f136a51c",
   "metadata": {},
   "outputs": [],
   "source": []
  }
 ],
 "metadata": {
  "kernelspec": {
   "display_name": "Python 3",
   "language": "python",
   "name": "python3"
  },
  "language_info": {
   "codemirror_mode": {
    "name": "ipython",
    "version": 3
   },
   "file_extension": ".py",
   "mimetype": "text/x-python",
   "name": "python",
   "nbconvert_exporter": "python",
   "pygments_lexer": "ipython3",
   "version": "3.8.8"
  }
 },
 "nbformat": 4,
 "nbformat_minor": 5
}
